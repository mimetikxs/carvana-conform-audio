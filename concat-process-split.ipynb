{
 "cells": [
  {
   "cell_type": "markdown",
   "id": "c9c12c8a",
   "metadata": {},
   "source": [
    "### Concat AI pieces to add fx, the split\n"
   ]
  },
  {
   "cell_type": "code",
   "execution_count": 16,
   "id": "6cf0ecf4",
   "metadata": {},
   "outputs": [],
   "source": [
    "import os\n",
    "import glob\n",
    "from pydub import AudioSegment\n",
    "from pydub.utils import make_chunks \n",
    "from math import ceil\n",
    "\n",
    "\n",
    "slots_durations = {\n",
    "    'date':      3.0,\n",
    "    'location':  4.2,\n",
    "    'user_name': 2.41,\n",
    "    'car':       5.5\n",
    "}\n",
    "\n",
    "\n",
    "def concatWavs(slotName, folderName=None, trimInput=True):\n",
    "    if folderName == None:\n",
    "        folderName = slotName\n",
    "\n",
    "    slot_duration = slots_durations[slotName]\n",
    "    pathIn   = f'__audio_ai/raw/{folderName}/*breathy*wav' \n",
    "    pathOut = f'__audio_ai/raw/{folderName}-raw.wav'\n",
    "        \n",
    "    print('concat files from', pathIn, 'with duration', slot_duration)    \n",
    "\n",
    "    files = glob.glob(pathIn)    \n",
    "    files.sort()\n",
    "\n",
    "    combined_sounds = AudioSegment.empty()\n",
    "    for f in files:\n",
    "        segment = AudioSegment.from_wav(f)\n",
    "        \n",
    "        if trimInput and segment.duration_seconds > slot_duration:\n",
    "            print('trimmed', f, f\"from {segment.duration_seconds} to {slot_duration} secs\")\n",
    "            segment = segment[0:slot_duration*1000]\n",
    "\n",
    "        silence_duration = ceil(1000 * (slot_duration - segment.duration_seconds))\n",
    "        if silence_duration < 0:\n",
    "            print('[ERROR]', f, f\"file_duration ({segment.duration_seconds}) is longer than slot_duration ({slot_duration})\")\n",
    "            continue        \n",
    "        \n",
    "        segment += AudioSegment.silent(duration=silence_duration)\n",
    "        chunks = make_chunks(segment, slot_duration*1000)\n",
    "        combined_sounds += chunks[0]\n",
    "\n",
    "        print('added', f, end='                                                      \\r') \n",
    "\n",
    "    combined_sounds.export(pathOut, format=\"wav\")    \n",
    "    print('concat complete', pathOut)\n",
    "\n",
    "\n",
    "def splitWav(slotName, folderName=None):\n",
    "    if folderName == None:\n",
    "        folderName = slotName\n",
    "\n",
    "    fileNames = glob.glob(f'__audio_ai/raw/{folderName}/*breathy*wav')\n",
    "    fileNames.sort()\n",
    "\n",
    "    slot_duration = slots_durations[slotName]\n",
    "    pathIn = f'__audio_ai/processed/{folderName}-raw-wFilter.wav'    \n",
    "    dirOut = f'__audio_ai/processed/chunks/{folderName}/' \n",
    "\n",
    "    os.makedirs(dirOut, exist_ok=True)\n",
    "    \n",
    "    print('split file', pathIn, 'to', dirOut, 'with duration', slot_duration)    \n",
    "    \n",
    "    combined = AudioSegment.from_file(pathIn, \"wav\") \n",
    "    chunks = make_chunks(combined, slot_duration*1000)\n",
    "\n",
    "    for i, chunk in enumerate(chunks): \n",
    "        fileName = os.path.basename(fileNames[i]).replace(f'{slotName}-', '', 1).replace('_spk_breathy_syn', '', 1).replace('-', '_')\n",
    "        chunk.export(dirOut + fileName, format=\"wav\") \n",
    "    \n",
    "    print(len(chunks), 'chunks created')"
   ]
  },
  {
   "cell_type": "code",
   "execution_count": null,
   "id": "f64f1bad",
   "metadata": {},
   "outputs": [],
   "source": [
    "concatWavs('car', folderName='car-2ndBatch')"
   ]
  },
  {
   "cell_type": "code",
   "execution_count": null,
   "id": "ad6cae27",
   "metadata": {},
   "outputs": [],
   "source": [
    "splitWav('car', folderName='car-1stBatch')"
   ]
  },
  {
   "cell_type": "markdown",
   "id": "d4d7b102",
   "metadata": {},
   "source": [
    "### Shift user names to add a silence at the begining"
   ]
  },
  {
   "cell_type": "code",
   "execution_count": 12,
   "id": "768a637b",
   "metadata": {},
   "outputs": [],
   "source": [
    "import os\n",
    "import glob\n",
    "from pydub import AudioSegment\n",
    "from pydub.utils import make_chunks \n",
    "from math import ceil\n",
    "\n",
    "\n",
    "slot_duration = 2.41\n",
    "lead_silence = 446 # in millis\n",
    "\n",
    "dirOut = '_audio_ai/processed/chunks/user_name_(with_silence)/'\n",
    "\n",
    "\n",
    "def shiftSilence(pathIn, dirOut):    \n",
    "    # add silence\n",
    "    audio = AudioSegment.silent(duration=lead_silence) \n",
    "    audio += AudioSegment.from_file(pathIn, \"wav\") \n",
    "    # trim\n",
    "    chunks = make_chunks(audio, slot_duration*1000) \n",
    "    audio = chunks[0]\n",
    "\n",
    "    fileName = os.path.basename(pathIn)\n",
    "    audio.export(dirOut + fileName, format=\"wav\") \n",
    "\n",
    "\n",
    "os.makedirs('_audio_ai/processed/chunks/user_name_(with_silence)/', exist_ok=True)\n",
    "\n",
    "fileNames = glob.glob('_audio_ai/processed/chunks/user_name/*.wav')\n",
    "fileNames.sort()\n",
    "\n",
    "for f in fileNames:\n",
    "    shiftSilence(f, dirOut)\n"
   ]
  }
 ],
 "metadata": {
  "kernelspec": {
   "display_name": "Python 3.9.6 64-bit",
   "language": "python",
   "name": "python3"
  },
  "language_info": {
   "codemirror_mode": {
    "name": "ipython",
    "version": 3
   },
   "file_extension": ".py",
   "mimetype": "text/x-python",
   "name": "python",
   "nbconvert_exporter": "python",
   "pygments_lexer": "ipython3",
   "version": "3.9.6"
  },
  "vscode": {
   "interpreter": {
    "hash": "aee8b7b246df8f9039afb4144a1f6fd8d2ca17a180786b69acc140d282b71a49"
   }
  }
 },
 "nbformat": 4,
 "nbformat_minor": 5
}
